{
 "cells": [
  {
   "cell_type": "code",
   "execution_count": 20,
   "metadata": {},
   "outputs": [],
   "source": [
    "import pandas as pd \n",
    "import numpy as np"
   ]
  },
  {
   "cell_type": "code",
   "execution_count": 21,
   "metadata": {},
   "outputs": [
    {
     "name": "stderr",
     "output_type": "stream",
     "text": [
      "/Users/ellenwu/anaconda3/lib/python3.11/site-packages/openpyxl/styles/stylesheet.py:226: UserWarning: Workbook contains no default style, apply openpyxl's default\n",
      "  warn(\"Workbook contains no default style, apply openpyxl's default\")\n"
     ]
    }
   ],
   "source": [
    "# Read data ---------------------------------------------------------------\n",
    "cig_data = pd.read_csv(\"/Users/ellenwu/homework3_attempt1-/data/input/The_Tax_Burden_on_Tobacco__1970-2019_20250304.csv\")\n",
    "cpi_data = pd.read_excel(\"/Users/ellenwu/homework3_attempt1-/data/input/SeriesReport-20250304165118_4f02a8.xlsx\", skiprows=11)"
   ]
  },
  {
   "cell_type": "code",
   "execution_count": 22,
   "metadata": {},
   "outputs": [
    {
     "name": "stdout",
     "output_type": "stream",
     "text": [
      "   Year   Jan   Feb   Mar   Apr   May   Jun   Jul   Aug   Sep   Oct   Nov  \\\n",
      "0  1913   9.8   9.8   9.8   9.8   9.7   9.8   9.9   9.9  10.0  10.0  10.1   \n",
      "1  1914  10.0   9.9   9.9   9.8   9.9   9.9  10.0  10.2  10.2  10.1  10.2   \n",
      "2  1915  10.1  10.0   9.9  10.0  10.1  10.1  10.1  10.1  10.1  10.2  10.3   \n",
      "3  1916  10.4  10.4  10.5  10.6  10.7  10.8  10.8  10.9  11.1  11.3  11.5   \n",
      "4  1917  11.7  12.0  12.0  12.6  12.8  13.0  12.8  13.0  13.3  13.5  13.5   \n",
      "\n",
      "    Dec  HALF1  HALF2  \n",
      "0  10.0    NaN    NaN  \n",
      "1  10.1    NaN    NaN  \n",
      "2  10.3    NaN    NaN  \n",
      "3  11.6    NaN    NaN  \n",
      "4  13.7    NaN    NaN  \n"
     ]
    },
    {
     "name": "stderr",
     "output_type": "stream",
     "text": [
      "/Users/ellenwu/anaconda3/lib/python3.11/site-packages/openpyxl/styles/stylesheet.py:226: UserWarning: Workbook contains no default style, apply openpyxl's default\n",
      "  warn(\"Workbook contains no default style, apply openpyxl's default\")\n"
     ]
    }
   ],
   "source": [
    "import pandas as pd\n",
    "\n",
    "# Load the Excel file\n",
    "df = pd.read_excel(\"/Users/ellenwu/homework3_attempt1-/data/input/SeriesReport-20250304165118_4f02a8.xlsx\", skiprows=11)\n",
    "\n",
    "# Show the first few rows\n",
    "print(df.head())"
   ]
  },
  {
   "cell_type": "code",
   "execution_count": 23,
   "metadata": {},
   "outputs": [],
   "source": [
    "# Clean tobacco data ------------------------------------------------------\n",
    "def map_measure(desc):\n",
    "    mapping = {\n",
    "        \"Average Cost per pack\": \"cost_per_pack\",\n",
    "        \"Cigarette Consumption (Pack Sales Per Capita)\": \"sales_per_capita\",\n",
    "        \"Federal and State tax as a Percentage of Retail Price\": \"tax_percent\",\n",
    "        \"Federal and State Tax per pack\": \"tax_dollar\",\n",
    "        \"Gross Cigarette Tax Revenue\": \"tax_revenue\",\n",
    "        \"State Tax per pack\": \"tax_state\"\n",
    "    }\n",
    "    return mapping.get(desc, None)\n",
    "\n",
    "cig_data['measure'] = cig_data['SubMeasureDesc'].map(map_measure)\n",
    "\n",
    "cig_data = cig_data[['LocationAbbr', 'LocationDesc', 'Year', 'Data_Value', 'measure']].rename(\n",
    "    columns={\n",
    "        'LocationAbbr': 'state_abb',\n",
    "        'LocationDesc': 'state',\n",
    "        'Data_Value': 'value'\n",
    "    }\n",
    ")\n",
    "\n",
    "final_data = cig_data.pivot_table(index=['state', 'Year'], \n",
    "                                  columns='measure', \n",
    "                                  values='value').reset_index()\n",
    "\n",
    "final_data = final_data.sort_values(by=['state', 'Year'])"
   ]
  },
  {
   "cell_type": "code",
   "execution_count": 24,
   "metadata": {},
   "outputs": [],
   "source": [
    "# Clean CPI data ----------------------------------------------------------\n",
    "cpi_data = cpi_data.melt(id_vars=['Year'], \n",
    "                         value_vars=['Jan', 'Feb', 'Mar', 'Apr', 'May', 'Jun', \n",
    "                                     'Jul', 'Aug', 'Sep', 'Oct', 'Nov', 'Dec'],\n",
    "                         var_name='month', \n",
    "                         value_name='index')\n",
    "\n",
    "cpi_data = cpi_data.groupby('Year', as_index=False).agg({'index': 'mean'})"
   ]
  },
  {
   "cell_type": "code",
   "execution_count": 19,
   "metadata": {},
   "outputs": [],
   "source": [
    "# Form final dataset ------------------------------------------------------\n",
    "# adjust to 2010 dollars (using 2010 CPI = 218)\n",
    "final_data = final_data.merge(cpi_data, on='Year', how='left')\n",
    "\n",
    "final_data['price_cpi'] = final_data['cost_per_pack'] * (218 / final_data['index'])\n",
    "\n",
    "# Write output files ------------------------------------------------------\n",
    "final_data.to_csv(\"/Users/ellenwu/homework3_attempt1-/data/output/TaxBurden_Data.txt\", sep='\\t', index=False)\n",
    "final_data.to_csv(\"/Users/ellenwu/homework3_attempt1-/data/output/TaxBurden_Data.csv\", index=False)\n"
   ]
  },
  {
   "cell_type": "code",
   "execution_count": null,
   "metadata": {},
   "outputs": [],
   "source": []
  }
 ],
 "metadata": {
  "kernelspec": {
   "display_name": "base",
   "language": "python",
   "name": "python3"
  },
  "language_info": {
   "codemirror_mode": {
    "name": "ipython",
    "version": 3
   },
   "file_extension": ".py",
   "mimetype": "text/x-python",
   "name": "python",
   "nbconvert_exporter": "python",
   "pygments_lexer": "ipython3",
   "version": "3.11.4"
  }
 },
 "nbformat": 4,
 "nbformat_minor": 2
}
