{
 "cells": [
  {
   "cell_type": "code",
   "execution_count": 2,
   "metadata": {},
   "outputs": [],
   "source": [
    "import pandas as pd \n",
    "import numpy as np"
   ]
  },
  {
   "cell_type": "code",
   "execution_count": 3,
   "metadata": {},
   "outputs": [
    {
     "name": "stderr",
     "output_type": "stream",
     "text": [
      "/Users/ellenwu/anaconda3/lib/python3.11/site-packages/openpyxl/styles/stylesheet.py:226: UserWarning: Workbook contains no default style, apply openpyxl's default\n",
      "  warn(\"Workbook contains no default style, apply openpyxl's default\")\n"
     ]
    }
   ],
   "source": [
    "# Read data ---------------------------------------------------------------\n",
    "cig_data = pd.read_csv(\"/Users/ellenwu/homework3_attempt1-/data/input/The_Tax_Burden_on_Tobacco__1970-2019_20250304.csv\")\n",
    "cpi_data = pd.read_excel(\"/Users/ellenwu/homework3_attempt1-/data/input/SeriesReport-20250304165118_4f02a8.xlsx\", skiprows=11)"
   ]
  },
  {
   "cell_type": "code",
   "execution_count": 4,
   "metadata": {},
   "outputs": [
    {
     "name": "stdout",
     "output_type": "stream",
     "text": [
      "      Year                                     SubMeasureDesc\n",
      "293   1970  Federal and State tax as a Percentage of Retai...\n",
      "1110  1970                              Average Cost per pack\n",
      "71    1970                     Federal and State Tax per pack\n",
      "100   1970                        Gross Cigarette Tax Revenue\n",
      "382   1970                                 State Tax per pack\n",
      "...    ...                                                ...\n",
      "341   2019                                 State Tax per pack\n",
      "681   2019                              Average Cost per pack\n",
      "65    2019                     Federal and State Tax per pack\n",
      "501   2019                        Gross Cigarette Tax Revenue\n",
      "591   2019  Federal and State tax as a Percentage of Retai...\n",
      "\n",
      "[300 rows x 2 columns]\n"
     ]
    }
   ],
   "source": [
    "# Check which years and measures exist\n",
    "print(cig_data[['Year', 'SubMeasureDesc']].drop_duplicates().sort_values(by='Year'))"
   ]
  },
  {
   "cell_type": "code",
   "execution_count": 5,
   "metadata": {},
   "outputs": [],
   "source": [
    "# Clean tobacco data ------------------------------------------------------\n",
    "def map_measure(desc):\n",
    "    mapping = {\n",
    "        \"average cost per pack\": \"cost_per_pack\",\n",
    "        \"cigarette consumption (pack sales per capita)\": \"sales_per_capita\",\n",
    "        \"federal and state tax as a percentage of retail price\": \"tax_percent\",\n",
    "        \"federal and state tax per pack\": \"tax_dollar\",\n",
    "        \"gross cigarette tax revenue\": \"tax_revenue\",\n",
    "        \"state tax per pack\": \"tax_state\"\n",
    "    }\n",
    "    return mapping.get(desc.strip().lower(), None)\n",
    "\n",
    "cig_data['measure'] = cig_data['SubMeasureDesc'].str.strip().str.lower().map(map_measure)"
   ]
  },
  {
   "cell_type": "code",
   "execution_count": 6,
   "metadata": {},
   "outputs": [
    {
     "name": "stdout",
     "output_type": "stream",
     "text": [
      "['State Tax per pack' 'Average Cost per pack'\n",
      " 'Federal and State tax as a Percentage of Retail Price'\n",
      " 'Gross Cigarette Tax Revenue' 'Federal and State Tax per pack'\n",
      " 'Cigarette Consumption (Pack Sales Per Capita)']\n"
     ]
    }
   ],
   "source": [
    "print(cig_data[cig_data['Year'] >= 1991]['SubMeasureDesc'].unique())"
   ]
  },
  {
   "cell_type": "code",
   "execution_count": 7,
   "metadata": {},
   "outputs": [
    {
     "name": "stdout",
     "output_type": "stream",
     "text": [
      "Non-missing Data_Values by Year:\n",
      "Year\n",
      "1970    306\n",
      "1971    306\n",
      "1972    306\n",
      "1973    306\n",
      "1974    306\n",
      "1975    306\n",
      "1976    306\n",
      "1977    306\n",
      "1978    306\n",
      "1979    306\n",
      "1980    306\n",
      "1981    306\n",
      "1982    306\n",
      "1983    306\n",
      "1984    306\n",
      "1985    306\n",
      "1986    306\n",
      "1987    306\n",
      "1988    306\n",
      "1989    306\n",
      "1990    306\n",
      "1991    306\n",
      "1992    306\n",
      "1993    306\n",
      "1994    306\n",
      "1995    306\n",
      "1996    306\n",
      "1997    306\n",
      "1998    306\n",
      "1999    306\n",
      "2000    306\n",
      "2001    306\n",
      "2002    306\n",
      "2003    306\n",
      "2004    306\n",
      "2005    306\n",
      "2006    306\n",
      "2007    306\n",
      "2008    306\n",
      "2009    306\n",
      "2010    306\n",
      "2011    306\n",
      "2012    306\n",
      "2013    306\n",
      "2014    306\n",
      "2015    306\n",
      "2016    306\n",
      "2017    306\n",
      "2018    306\n",
      "2019    306\n",
      "Name: Data_Value, dtype: int64\n"
     ]
    },
    {
     "ename": "KeyError",
     "evalue": "'value'",
     "output_type": "error",
     "traceback": [
      "\u001b[0;31m---------------------------------------------------------------------------\u001b[0m",
      "\u001b[0;31mKeyError\u001b[0m                                  Traceback (most recent call last)",
      "Cell \u001b[0;32mIn[7], line 4\u001b[0m\n\u001b[1;32m      1\u001b[0m \u001b[38;5;28mprint\u001b[39m(\u001b[38;5;124m\"\u001b[39m\u001b[38;5;124mNon-missing Data_Values by Year:\u001b[39m\u001b[38;5;124m\"\u001b[39m)\n\u001b[1;32m      2\u001b[0m \u001b[38;5;28mprint\u001b[39m(cig_data\u001b[38;5;241m.\u001b[39mgroupby(\u001b[38;5;124m'\u001b[39m\u001b[38;5;124mYear\u001b[39m\u001b[38;5;124m'\u001b[39m)[\u001b[38;5;124m'\u001b[39m\u001b[38;5;124mData_Value\u001b[39m\u001b[38;5;124m'\u001b[39m]\u001b[38;5;241m.\u001b[39mcount())\n\u001b[0;32m----> 4\u001b[0m final_data \u001b[38;5;241m=\u001b[39m cig_data\u001b[38;5;241m.\u001b[39mpivot_table(index\u001b[38;5;241m=\u001b[39m[\u001b[38;5;124m'\u001b[39m\u001b[38;5;124mstate\u001b[39m\u001b[38;5;124m'\u001b[39m, \u001b[38;5;124m'\u001b[39m\u001b[38;5;124mYear\u001b[39m\u001b[38;5;124m'\u001b[39m], \n\u001b[1;32m      5\u001b[0m                                   columns\u001b[38;5;241m=\u001b[39m\u001b[38;5;124m'\u001b[39m\u001b[38;5;124mmeasure\u001b[39m\u001b[38;5;124m'\u001b[39m, \n\u001b[1;32m      6\u001b[0m                                   values\u001b[38;5;241m=\u001b[39m\u001b[38;5;124m'\u001b[39m\u001b[38;5;124mvalue\u001b[39m\u001b[38;5;124m'\u001b[39m)\u001b[38;5;241m.\u001b[39mreset_index()\n\u001b[1;32m      8\u001b[0m \u001b[38;5;28mprint\u001b[39m(\u001b[38;5;124m\"\u001b[39m\u001b[38;5;124mYears in final_data after pivot:\u001b[39m\u001b[38;5;124m\"\u001b[39m)\n\u001b[1;32m      9\u001b[0m \u001b[38;5;28mprint\u001b[39m(final_data[\u001b[38;5;124m'\u001b[39m\u001b[38;5;124mYear\u001b[39m\u001b[38;5;124m'\u001b[39m]\u001b[38;5;241m.\u001b[39munique())\n",
      "File \u001b[0;32m~/anaconda3/lib/python3.11/site-packages/pandas/core/frame.py:8731\u001b[0m, in \u001b[0;36mDataFrame.pivot_table\u001b[0;34m(self, values, index, columns, aggfunc, fill_value, margins, dropna, margins_name, observed, sort)\u001b[0m\n\u001b[1;32m   8714\u001b[0m \u001b[38;5;129m@Substitution\u001b[39m(\u001b[38;5;124m\"\u001b[39m\u001b[38;5;124m\"\u001b[39m)\n\u001b[1;32m   8715\u001b[0m \u001b[38;5;129m@Appender\u001b[39m(_shared_docs[\u001b[38;5;124m\"\u001b[39m\u001b[38;5;124mpivot_table\u001b[39m\u001b[38;5;124m\"\u001b[39m])\n\u001b[1;32m   8716\u001b[0m \u001b[38;5;28;01mdef\u001b[39;00m \u001b[38;5;21mpivot_table\u001b[39m(\n\u001b[0;32m   (...)\u001b[0m\n\u001b[1;32m   8727\u001b[0m     sort\u001b[38;5;241m=\u001b[39m\u001b[38;5;28;01mTrue\u001b[39;00m,\n\u001b[1;32m   8728\u001b[0m ) \u001b[38;5;241m-\u001b[39m\u001b[38;5;241m>\u001b[39m DataFrame:\n\u001b[1;32m   8729\u001b[0m     \u001b[38;5;28;01mfrom\u001b[39;00m \u001b[38;5;21;01mpandas\u001b[39;00m\u001b[38;5;21;01m.\u001b[39;00m\u001b[38;5;21;01mcore\u001b[39;00m\u001b[38;5;21;01m.\u001b[39;00m\u001b[38;5;21;01mreshape\u001b[39;00m\u001b[38;5;21;01m.\u001b[39;00m\u001b[38;5;21;01mpivot\u001b[39;00m \u001b[38;5;28;01mimport\u001b[39;00m pivot_table\n\u001b[0;32m-> 8731\u001b[0m     \u001b[38;5;28;01mreturn\u001b[39;00m pivot_table(\n\u001b[1;32m   8732\u001b[0m         \u001b[38;5;28mself\u001b[39m,\n\u001b[1;32m   8733\u001b[0m         values\u001b[38;5;241m=\u001b[39mvalues,\n\u001b[1;32m   8734\u001b[0m         index\u001b[38;5;241m=\u001b[39mindex,\n\u001b[1;32m   8735\u001b[0m         columns\u001b[38;5;241m=\u001b[39mcolumns,\n\u001b[1;32m   8736\u001b[0m         aggfunc\u001b[38;5;241m=\u001b[39maggfunc,\n\u001b[1;32m   8737\u001b[0m         fill_value\u001b[38;5;241m=\u001b[39mfill_value,\n\u001b[1;32m   8738\u001b[0m         margins\u001b[38;5;241m=\u001b[39mmargins,\n\u001b[1;32m   8739\u001b[0m         dropna\u001b[38;5;241m=\u001b[39mdropna,\n\u001b[1;32m   8740\u001b[0m         margins_name\u001b[38;5;241m=\u001b[39mmargins_name,\n\u001b[1;32m   8741\u001b[0m         observed\u001b[38;5;241m=\u001b[39mobserved,\n\u001b[1;32m   8742\u001b[0m         sort\u001b[38;5;241m=\u001b[39msort,\n\u001b[1;32m   8743\u001b[0m     )\n",
      "File \u001b[0;32m~/anaconda3/lib/python3.11/site-packages/pandas/core/reshape/pivot.py:97\u001b[0m, in \u001b[0;36mpivot_table\u001b[0;34m(data, values, index, columns, aggfunc, fill_value, margins, dropna, margins_name, observed, sort)\u001b[0m\n\u001b[1;32m     94\u001b[0m     table \u001b[38;5;241m=\u001b[39m concat(pieces, keys\u001b[38;5;241m=\u001b[39mkeys, axis\u001b[38;5;241m=\u001b[39m\u001b[38;5;241m1\u001b[39m)\n\u001b[1;32m     95\u001b[0m     \u001b[38;5;28;01mreturn\u001b[39;00m table\u001b[38;5;241m.\u001b[39m__finalize__(data, method\u001b[38;5;241m=\u001b[39m\u001b[38;5;124m\"\u001b[39m\u001b[38;5;124mpivot_table\u001b[39m\u001b[38;5;124m\"\u001b[39m)\n\u001b[0;32m---> 97\u001b[0m table \u001b[38;5;241m=\u001b[39m __internal_pivot_table(\n\u001b[1;32m     98\u001b[0m     data,\n\u001b[1;32m     99\u001b[0m     values,\n\u001b[1;32m    100\u001b[0m     index,\n\u001b[1;32m    101\u001b[0m     columns,\n\u001b[1;32m    102\u001b[0m     aggfunc,\n\u001b[1;32m    103\u001b[0m     fill_value,\n\u001b[1;32m    104\u001b[0m     margins,\n\u001b[1;32m    105\u001b[0m     dropna,\n\u001b[1;32m    106\u001b[0m     margins_name,\n\u001b[1;32m    107\u001b[0m     observed,\n\u001b[1;32m    108\u001b[0m     sort,\n\u001b[1;32m    109\u001b[0m )\n\u001b[1;32m    110\u001b[0m \u001b[38;5;28;01mreturn\u001b[39;00m table\u001b[38;5;241m.\u001b[39m__finalize__(data, method\u001b[38;5;241m=\u001b[39m\u001b[38;5;124m\"\u001b[39m\u001b[38;5;124mpivot_table\u001b[39m\u001b[38;5;124m\"\u001b[39m)\n",
      "File \u001b[0;32m~/anaconda3/lib/python3.11/site-packages/pandas/core/reshape/pivot.py:143\u001b[0m, in \u001b[0;36m__internal_pivot_table\u001b[0;34m(data, values, index, columns, aggfunc, fill_value, margins, dropna, margins_name, observed, sort)\u001b[0m\n\u001b[1;32m    141\u001b[0m \u001b[38;5;28;01mfor\u001b[39;00m i \u001b[38;5;129;01min\u001b[39;00m values:\n\u001b[1;32m    142\u001b[0m     \u001b[38;5;28;01mif\u001b[39;00m i \u001b[38;5;129;01mnot\u001b[39;00m \u001b[38;5;129;01min\u001b[39;00m data:\n\u001b[0;32m--> 143\u001b[0m         \u001b[38;5;28;01mraise\u001b[39;00m \u001b[38;5;167;01mKeyError\u001b[39;00m(i)\n\u001b[1;32m    145\u001b[0m to_filter \u001b[38;5;241m=\u001b[39m []\n\u001b[1;32m    146\u001b[0m \u001b[38;5;28;01mfor\u001b[39;00m x \u001b[38;5;129;01min\u001b[39;00m keys \u001b[38;5;241m+\u001b[39m values:\n",
      "\u001b[0;31mKeyError\u001b[0m: 'value'"
     ]
    }
   ],
   "source": [
    "print(\"Non-missing Data_Values by Year:\")\n",
    "print(cig_data.groupby('Year')['Data_Value'].count())\n",
    "\n",
    "final_data = cig_data.pivot_table(index=['state', 'Year'], \n",
    "                                  columns='measure', \n",
    "                                  values='value').reset_index()\n",
    "\n",
    "print(\"Years in final_data after pivot:\")\n",
    "print(final_data['Year'].unique())"
   ]
  },
  {
   "cell_type": "code",
   "execution_count": 8,
   "metadata": {},
   "outputs": [
    {
     "name": "stdout",
     "output_type": "stream",
     "text": [
      "Years present after pivot:\n",
      "[1970 1971 1972 1973 1974 1975 1976 1977 1978 1979 1980 1981 1982 1983\n",
      " 1984 1985 1986 1987 1988 1989 1990 1991 1992 1993 1994 1995 1996 1997\n",
      " 1998 1999 2000 2001 2002 2003 2004 2005 2006 2007 2008 2009 2010 2011\n",
      " 2012 2013 2014 2015 2016 2017 2018 2019]\n"
     ]
    }
   ],
   "source": [
    "cig_data = cig_data[['LocationAbbr', 'LocationDesc', 'Year', 'Data_Value', 'measure']].rename(\n",
    "    columns={\n",
    "        'LocationAbbr': 'state_abb',\n",
    "        'LocationDesc': 'state',\n",
    "        'Data_Value': 'value'\n",
    "    }\n",
    ")\n",
    "\n",
    "final_data = cig_data.pivot_table(index=['state', 'Year'], \n",
    "                                  columns='measure', \n",
    "                                  values='value').reset_index()\n",
    "\n",
    "print(\"Years present after pivot:\")\n",
    "print(final_data['Year'].unique())"
   ]
  },
  {
   "cell_type": "code",
   "execution_count": 9,
   "metadata": {},
   "outputs": [
    {
     "name": "stdout",
     "output_type": "stream",
     "text": [
      "measure  tax_state\n",
      "Year              \n",
      "1970            51\n",
      "1971            51\n",
      "1972            51\n",
      "1973            51\n",
      "1974            51\n",
      "1975            51\n",
      "1976            51\n",
      "1977            51\n",
      "1978            51\n",
      "1979            51\n",
      "1980            51\n",
      "1981            51\n",
      "1982            51\n",
      "1983            51\n",
      "1984            51\n",
      "1985            51\n",
      "1986            51\n",
      "1987            51\n",
      "1988            51\n",
      "1989            51\n",
      "1990            51\n",
      "1991            51\n",
      "1992            51\n",
      "1993            51\n",
      "1994            51\n",
      "1995            51\n",
      "1996            51\n",
      "1997            51\n",
      "1998            51\n",
      "1999            51\n",
      "2000            51\n",
      "2001            51\n",
      "2002            51\n",
      "2003            51\n",
      "2004            51\n",
      "2005            51\n",
      "2006            51\n",
      "2007            51\n",
      "2008            51\n",
      "2009            51\n",
      "2010            51\n",
      "2011            51\n",
      "2012            51\n",
      "2013            51\n",
      "2014            51\n",
      "2015            51\n",
      "2016            51\n",
      "2017            51\n",
      "2018            51\n",
      "2019            51\n"
     ]
    }
   ],
   "source": [
    "print(final_data[['Year', 'tax_state']].groupby('Year').count())"
   ]
  },
  {
   "cell_type": "code",
   "execution_count": 10,
   "metadata": {},
   "outputs": [
    {
     "name": "stdout",
     "output_type": "stream",
     "text": [
      "state\n",
      "Alabama                  5\n",
      "Alaska                   7\n",
      "Arizona                  7\n",
      "Arkansas                 9\n",
      "California               5\n",
      "Colorado                 5\n",
      "Connecticut             15\n",
      "Delaware                 7\n",
      "District of Columbia    16\n",
      "Florida                  6\n",
      "Georgia                  3\n",
      "Hawaii                  30\n",
      "Idaho                    5\n",
      "Illinois                 7\n",
      "Indiana                  5\n",
      "Iowa                     8\n",
      "Kansas                   6\n",
      "Kentucky                 5\n",
      "Louisiana                7\n",
      "Maine                   11\n",
      "Maryland                 8\n",
      "Massachusetts            9\n",
      "Michigan                 6\n",
      "Minnesota               17\n",
      "Mississippi              4\n",
      "Missouri                 3\n",
      "Montana                  7\n",
      "Nebraska                 7\n",
      "Nevada                   6\n",
      "New Hampshire           14\n",
      "New Jersey              12\n",
      "New Mexico               5\n",
      "New York                10\n",
      "North Carolina           5\n",
      "North Dakota             7\n",
      "Ohio                     8\n",
      "Oklahoma                 5\n",
      "Oregon                  12\n",
      "Pennsylvania             6\n",
      "Rhode Island            17\n",
      "South Carolina           3\n",
      "South Dakota             7\n",
      "Tennessee                3\n",
      "Texas                    7\n",
      "Utah                     8\n",
      "Vermont                 13\n",
      "Virginia                 2\n",
      "Washington              12\n",
      "West Virginia            5\n",
      "Wisconsin               10\n",
      "Wyoming                  4\n",
      "Name: tax_state, dtype: int64\n"
     ]
    }
   ],
   "source": [
    "print(final_data.groupby('state')['tax_state'].nunique())"
   ]
  },
  {
   "cell_type": "code",
   "execution_count": 11,
   "metadata": {},
   "outputs": [],
   "source": [
    "final_data = final_data.sort_values(by=['state', 'Year'])"
   ]
  },
  {
   "cell_type": "code",
   "execution_count": 12,
   "metadata": {},
   "outputs": [],
   "source": [
    "# Clean CPI data ----------------------------------------------------------\n",
    "cpi_data = cpi_data.melt(id_vars=['Year'], \n",
    "                         value_vars=['Jan', 'Feb', 'Mar', 'Apr', 'May', 'Jun', \n",
    "                                     'Jul', 'Aug', 'Sep', 'Oct', 'Nov', 'Dec'],\n",
    "                         var_name='month', \n",
    "                         value_name='index')\n",
    "\n",
    "cpi_data = cpi_data.groupby('Year', as_index=False).agg({'index': 'mean'})"
   ]
  },
  {
   "cell_type": "code",
   "execution_count": 14,
   "metadata": {},
   "outputs": [
    {
     "name": "stdout",
     "output_type": "stream",
     "text": [
      "[1913 1914 1915 1916 1917 1918 1919 1920 1921 1922 1923 1924 1925 1926\n",
      " 1927 1928 1929 1930 1931 1932 1933 1934 1935 1936 1937 1938 1939 1940\n",
      " 1941 1942 1943 1944 1945 1946 1947 1948 1949 1950 1951 1952 1953 1954\n",
      " 1955 1956 1957 1958 1959 1960 1961 1962 1963 1964 1965 1966 1967 1968\n",
      " 1969 1970 1971 1972 1973 1974 1975 1976 1977 1978 1979 1980 1981 1982\n",
      " 1983 1984 1985 1986 1987 1988 1989 1990 1991 1992 1993 1994 1995 1996\n",
      " 1997 1998 1999 2000 2001 2002 2003 2004 2005 2006 2007 2008 2009 2010\n",
      " 2011 2012 2013 2014 2015 2016 2017 2018 2019 2020 2021 2022 2023 2024\n",
      " 2025]\n"
     ]
    }
   ],
   "source": [
    "print(cpi_data['Year'].unique())"
   ]
  },
  {
   "cell_type": "code",
   "execution_count": 16,
   "metadata": {},
   "outputs": [
    {
     "name": "stdout",
     "output_type": "stream",
     "text": [
      "Years present in final_data after merging CPI:\n",
      "    Year       index\n",
      "0   1970   38.825000\n",
      "1   1971   40.491667\n",
      "2   1972   41.816667\n",
      "3   1973   44.400000\n",
      "4   1974   49.308333\n",
      "5   1975   53.816667\n",
      "6   1976   56.908333\n",
      "7   1977   60.608333\n",
      "8   1978   65.233333\n",
      "9   1979   72.575000\n",
      "10  1980   82.408333\n",
      "11  1981   90.925000\n",
      "12  1982   96.500000\n",
      "13  1983   99.600000\n",
      "14  1984  103.883333\n",
      "15  1985  107.566667\n",
      "16  1986  109.608333\n",
      "17  1987  113.625000\n",
      "18  1988  118.258333\n",
      "19  1989  123.966667\n",
      "20  1990  130.658333\n",
      "21  1991  136.191667\n",
      "22  1992  140.316667\n",
      "23  1993  144.458333\n",
      "24  1994  148.225000\n",
      "25  1995  152.383333\n",
      "26  1996  156.850000\n",
      "27  1997  160.516667\n",
      "28  1998  163.008333\n",
      "29  1999  166.575000\n",
      "30  2000  172.200000\n",
      "31  2001  177.066667\n",
      "32  2002  179.875000\n",
      "33  2003  183.958333\n",
      "34  2004  188.883333\n",
      "35  2005  195.291667\n",
      "36  2006  201.591667\n",
      "37  2007  207.342417\n",
      "38  2008  215.302500\n",
      "39  2009  214.537000\n",
      "40  2010  218.055500\n",
      "41  2011  224.939167\n",
      "42  2012  229.593917\n",
      "43  2013  232.957083\n",
      "44  2014  236.736167\n",
      "45  2015  237.017000\n",
      "46  2016  240.007167\n",
      "47  2017  245.119583\n",
      "48  2018  251.106833\n",
      "49  2019  255.657417\n"
     ]
    }
   ],
   "source": [
    "# Form final dataset ------------------------------------------------------\n",
    "# adjust to 2010 dollars (using 2010 CPI = 218)\n",
    "final_data = final_data.merge(cpi_data, on='Year', how='left')\n",
    "\n",
    "print(\"Years present in final_data after merging CPI:\")\n",
    "print(final_data[['Year', 'index']].drop_duplicates().sort_values('Year'))\n"
   ]
  },
  {
   "cell_type": "code",
   "execution_count": 17,
   "metadata": {},
   "outputs": [
    {
     "name": "stdout",
     "output_type": "stream",
     "text": [
      "        state  Year  tax_state  tax_change\n",
      "2500  Wyoming  1970       0.06       False\n",
      "2501  Wyoming  1971       0.08        True\n",
      "2502  Wyoming  1972       0.08        True\n",
      "2503  Wyoming  1973       0.08        True\n",
      "2504  Wyoming  1974       0.08        True\n",
      "2505  Wyoming  1975       0.08        True\n",
      "2506  Wyoming  1976       0.08        True\n",
      "2507  Wyoming  1977       0.08        True\n",
      "2508  Wyoming  1978       0.08        True\n",
      "2509  Wyoming  1979       0.08        True\n",
      "2510  Wyoming  1980       0.08        True\n",
      "2511  Wyoming  1981       0.08        True\n",
      "2512  Wyoming  1982       0.08        True\n",
      "2513  Wyoming  1983       0.08        True\n",
      "2514  Wyoming  1984       0.08        True\n",
      "2515  Wyoming  1985       0.08        True\n",
      "2516  Wyoming  1986       0.08        True\n",
      "2517  Wyoming  1987       0.08        True\n",
      "2518  Wyoming  1988       0.08        True\n",
      "2519  Wyoming  1989       0.08        True\n",
      "2520  Wyoming  1990       0.08        True\n",
      "2521  Wyoming  1991       0.12        True\n",
      "2522  Wyoming  1992       0.12        True\n",
      "2523  Wyoming  1993       0.12        True\n",
      "2524  Wyoming  1994       0.12        True\n",
      "2525  Wyoming  1995       0.12        True\n",
      "2526  Wyoming  1996       0.12        True\n",
      "2527  Wyoming  1997       0.12        True\n",
      "2528  Wyoming  1998       0.12        True\n",
      "2529  Wyoming  1999       0.12        True\n",
      "2530  Wyoming  2000       0.12        True\n",
      "2531  Wyoming  2001       0.12        True\n",
      "2532  Wyoming  2002       0.12        True\n",
      "2533  Wyoming  2003       0.12        True\n",
      "2534  Wyoming  2004       0.60        True\n",
      "2535  Wyoming  2005       0.60        True\n",
      "2536  Wyoming  2006       0.60        True\n",
      "2537  Wyoming  2007       0.60        True\n",
      "2538  Wyoming  2008       0.60        True\n",
      "2539  Wyoming  2009       0.60        True\n",
      "2540  Wyoming  2010       0.60        True\n",
      "2541  Wyoming  2011       0.60        True\n",
      "2542  Wyoming  2012       0.60        True\n",
      "2543  Wyoming  2013       0.60        True\n",
      "2544  Wyoming  2014       0.60        True\n",
      "2545  Wyoming  2015       0.60        True\n",
      "2546  Wyoming  2016       0.60        True\n",
      "2547  Wyoming  2017       0.60        True\n",
      "2548  Wyoming  2018       0.60        True\n",
      "2549  Wyoming  2019       0.60        True\n"
     ]
    }
   ],
   "source": [
    "final_data['tax_change'] = final_data.groupby('state')['tax_state'].diff().notna()\n",
    "print(final_data[['state', 'Year', 'tax_state', 'tax_change']].tail(50))"
   ]
  },
  {
   "cell_type": "code",
   "execution_count": 19,
   "metadata": {},
   "outputs": [],
   "source": [
    "final_data['price_cpi'] = final_data['cost_per_pack'] * (218 / final_data['index'])"
   ]
  },
  {
   "cell_type": "code",
   "execution_count": 20,
   "metadata": {},
   "outputs": [],
   "source": [
    "# Write output files ------------------------------------------------------\n",
    "final_data.to_csv(\"/Users/ellenwu/homework3_attempt1-/data/output/dTaxBurden_Data.txt\", sep='\\t', index=False)\n",
    "final_data.to_csv(\"/Users/ellenwu/homework3_attempt1-/data/output/dTaxBurden_Data.csv\", index=False)\n"
   ]
  },
  {
   "cell_type": "code",
   "execution_count": null,
   "metadata": {},
   "outputs": [],
   "source": []
  }
 ],
 "metadata": {
  "kernelspec": {
   "display_name": "base",
   "language": "python",
   "name": "python3"
  },
  "language_info": {
   "codemirror_mode": {
    "name": "ipython",
    "version": 3
   },
   "file_extension": ".py",
   "mimetype": "text/x-python",
   "name": "python",
   "nbconvert_exporter": "python",
   "pygments_lexer": "ipython3",
   "version": "3.11.4"
  }
 },
 "nbformat": 4,
 "nbformat_minor": 2
}
