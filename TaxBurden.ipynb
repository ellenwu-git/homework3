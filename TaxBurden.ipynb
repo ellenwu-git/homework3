{
 "cells": [
  {
   "cell_type": "code",
   "execution_count": 11,
   "metadata": {},
   "outputs": [],
   "source": [
    "import pandas as pd\n",
    "import numpy as np\n",
    "import warnings\n",
    "warnings.simplefilter('ignore')"
   ]
  },
  {
   "cell_type": "code",
   "execution_count": 12,
   "metadata": {},
   "outputs": [],
   "source": [
    "cig_data = pd.read_csv(\"/Users/ellenwu/homework3_attempt1-/data/input/The_Tax_Burden_on_Tobacco__1970-2019_20250304.csv\")\n",
    "cpi_data = pd.read_excel(\"/Users/ellenwu/homework3_attempt1-/data/input/SeriesReport-20250304165118_4f02a8.xlsx\", skiprows=11)"
   ]
  },
  {
   "cell_type": "code",
   "execution_count": 3,
   "metadata": {},
   "outputs": [],
   "source": [
    "cig_data[\"Year\"] = cig_data[\"Year\"].astype(int)\n",
    "cpi_data[\"Year\"] = cpi_data[\"Year\"].astype(int)"
   ]
  },
  {
   "cell_type": "code",
   "execution_count": 5,
   "metadata": {},
   "outputs": [],
   "source": [
    "# Cleaning Tobacco Data\n",
    "cig_data[\"measure\"] = cig_data[\"SubMeasureDesc\"].map({\n",
    "    \"Average Cost per pack\": \"cost_per_pack\",\n",
    "    \"Cigarette Consumption (Pack Sales Per Capita)\": \"sales_per_capita\",\n",
    "    \"Federal and State tax as a Percentage of Retail Price\": \"tax_percent\",\n",
    "    \"Federal and State Tax per pack\": \"tax_dollar\",\n",
    "    \"Gross Cigarette Tax Revenue\": \"tax_revenue\",\n",
    "    \"State Tax per pack\": \"tax_state\"\n",
    "})\n",
    "cig_data = cig_data.rename(columns={\"LocationAbbr\": \"state_abb\", \"LocationDesc\": \"state\", \"Data_Value\": \"value\"})\n",
    "cig_data = cig_data[[\"state_abb\", \"state\", \"Year\", \"value\", \"measure\"]]"
   ]
  },
  {
   "cell_type": "code",
   "execution_count": 6,
   "metadata": {},
   "outputs": [
    {
     "name": "stdout",
     "output_type": "stream",
     "text": [
      "Columns in DataFrame after skipping rows: ['Year', 'Jan', 'Feb', 'Mar', 'Apr', 'May', 'Jun', 'Jul', 'Aug', 'Sep', 'Oct', 'Nov', 'Dec', 'HALF1', 'HALF2']\n"
     ]
    }
   ],
   "source": [
    "# Pivot Data\n",
    "final_data = cig_data.pivot(index=[\"state\", \"Year\"], columns=\"measure\", values=\"value\").reset_index()\n",
    "\n",
    "# 🛠️ Fix 2: Drop incorrect year values before merging\n",
    "final_data = final_data[(final_data[\"Year\"] >= 1970) & (final_data[\"Year\"] <= 2019)]\n",
    "\n",
    "# Cleaning CPI Data\n",
    "print(\"Columns in DataFrame after skipping rows:\", cpi_data.columns.tolist()) "
   ]
  },
  {
   "cell_type": "code",
   "execution_count": 7,
   "metadata": {},
   "outputs": [],
   "source": [
    "# 🛠️ Fix 3: Drop 'HALF1' and 'HALF2' columns from CPI dataset\n",
    "cpi_data = cpi_data.drop(columns=[\"HALF1\", \"HALF2\"], errors=\"ignore\")\n",
    "\n",
    "cpi_data = cpi_data.melt(id_vars=[\"Year\"], \n",
    "                          value_vars=[\"Jan\", \"Feb\", \"Mar\", \"Apr\", \"May\", \"Jun\", \"Jul\", \"Aug\", \"Sep\", \"Oct\", \"Nov\", \"Dec\"],\n",
    "                          var_name=\"month\", \n",
    "                          value_name=\"index\")\n",
    "\n",
    "cpi_data = cpi_data.groupby(\"Year\", as_index=False).agg({\"index\": \"mean\"})"
   ]
  },
  {
   "cell_type": "code",
   "execution_count": 8,
   "metadata": {},
   "outputs": [],
   "source": [
    "# Merge CPI Data\n",
    "final_data = final_data.merge(cpi_data, on=\"Year\", how=\"left\")  # 🛠️ Fix 4: Use 'left' instead of 'outer'\n",
    "\n",
    "# 🛠️ Fix 5: Fill Missing CPI Values\n",
    "final_data[\"index\"].fillna(final_data[\"index\"].mean(), inplace=True)\n",
    "\n",
    "# Adjust to 2010 Dollars\n",
    "final_data[\"price_cpi\"] = final_data[\"cost_per_pack\"] * (218 / final_data[\"index\"])"
   ]
  },
  {
   "cell_type": "code",
   "execution_count": 9,
   "metadata": {},
   "outputs": [
    {
     "name": "stdout",
     "output_type": "stream",
     "text": [
      "    Year\n",
      "0   1970\n",
      "1   1971\n",
      "2   1972\n",
      "3   1973\n",
      "4   1974\n",
      "5   1975\n",
      "6   1976\n",
      "7   1977\n",
      "8   1978\n",
      "9   1979\n",
      "10  1980\n",
      "11  1981\n",
      "12  1982\n",
      "13  1983\n",
      "14  1984\n",
      "15  1985\n",
      "16  1986\n",
      "17  1987\n",
      "18  1988\n",
      "19  1989\n",
      "20  1990\n",
      "21  1991\n",
      "22  1992\n",
      "23  1993\n",
      "24  1994\n",
      "25  1995\n",
      "26  1996\n",
      "27  1997\n",
      "28  1998\n",
      "29  1999\n",
      "30  2000\n",
      "31  2001\n",
      "32  2002\n",
      "33  2003\n",
      "34  2004\n",
      "35  2005\n",
      "36  2006\n",
      "37  2007\n",
      "38  2008\n",
      "39  2009\n",
      "40  2010\n",
      "41  2011\n",
      "42  2012\n",
      "43  2013\n",
      "44  2014\n",
      "45  2015\n",
      "46  2016\n",
      "47  2017\n",
      "48  2018\n",
      "49  2019\n"
     ]
    }
   ],
   "source": [
    "# Check Fixed Year Range\n",
    "print(final_data[[\"Year\"]].drop_duplicates().sort_values(\"Year\"))"
   ]
  },
  {
   "cell_type": "code",
   "execution_count": 10,
   "metadata": {},
   "outputs": [],
   "source": [
    "# Save Data\n",
    "final_data.to_csv(\"/Users/ellenwu/homework3/data/output/ftaxburden_data.csv\", index=False)"
   ]
  },
  {
   "cell_type": "code",
   "execution_count": 13,
   "metadata": {},
   "outputs": [
    {
     "name": "stdout",
     "output_type": "stream",
     "text": [
      "Unique Years in Original Data: [1970 1971 1972 1973 1974 1975 1976 1977 1978 1979 1980 1981 1982 1983\n",
      " 1984 1985 1986 1987 1988 1989 1990 1991 1992 1993 1994 1995 1996 1997\n",
      " 1998 1999 2000 2001 2002 2003 2004 2005 2006 2007 2008 2009 2010 2011\n",
      " 2012 2013 2014 2015 2016 2017 2018 2019]\n"
     ]
    }
   ],
   "source": [
    "df = pd.read_csv(\"/Users/ellenwu/homework3/data/output/ftaxburden_data.csv\")\n",
    "print(\"Unique Years in Original Data:\", df[\"Year\"].unique())  "
   ]
  },
  {
   "cell_type": "code",
   "execution_count": null,
   "metadata": {},
   "outputs": [],
   "source": []
  }
 ],
 "metadata": {
  "kernelspec": {
   "display_name": "base",
   "language": "python",
   "name": "python3"
  },
  "language_info": {
   "codemirror_mode": {
    "name": "ipython",
    "version": 3
   },
   "file_extension": ".py",
   "mimetype": "text/x-python",
   "name": "python",
   "nbconvert_exporter": "python",
   "pygments_lexer": "ipython3",
   "version": "3.11.4"
  }
 },
 "nbformat": 4,
 "nbformat_minor": 2
}
