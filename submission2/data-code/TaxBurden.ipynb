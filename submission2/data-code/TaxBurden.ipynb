{
 "cells": [
  {
   "cell_type": "code",
   "execution_count": 2,
   "metadata": {},
   "outputs": [],
   "source": [
    "import pandas as pd\n",
    "import numpy as np"
   ]
  },
  {
   "cell_type": "code",
   "execution_count": 3,
   "metadata": {},
   "outputs": [
    {
     "name": "stderr",
     "output_type": "stream",
     "text": [
      "/Users/ellenwu/anaconda3/lib/python3.11/site-packages/openpyxl/styles/stylesheet.py:226: UserWarning: Workbook contains no default style, apply openpyxl's default\n",
      "  warn(\"Workbook contains no default style, apply openpyxl's default\")\n"
     ]
    }
   ],
   "source": [
    "cig_data = pd.read_csv(\"/Users/ellenwu/homework3_attempt1-/data/input/The_Tax_Burden_on_Tobacco__1970-2019_20250304.csv\")\n",
    "cpi_data = pd.read_excel(\"/Users/ellenwu/homework3_attempt1-/data/input/SeriesReport-20250304165118_4f02a8.xlsx\", skiprows=11)"
   ]
  },
  {
   "cell_type": "code",
   "execution_count": 4,
   "metadata": {},
   "outputs": [],
   "source": [
    "#cleaning tobacco data \n",
    "\n",
    "cig_data[\"measure\"] = cig_data[\"SubMeasureDesc\"].map({\n",
    "    \"Average Cost per pack\": \"cost_per_pack\",\n",
    "    \"Cigarette Consumption (Pack Sales Per Capita)\": \"sales_per_capita\",\n",
    "    \"Federal and State tax as a Percentage of Retail Price\": \"tax_percent\",\n",
    "    \"Federal and State Tax per pack\": \"tax_dollar\",\n",
    "    \"Gross Cigarette Tax Revenue\": \"tax_revenue\",\n",
    "    \"State Tax per pack\": \"tax_state\"\n",
    "})\n",
    "cig_data = cig_data.rename(columns={\n",
    "    \"LocationAbbr\": \"state_abb\", \n",
    "    \"LocationDesc\": \"state\", \n",
    "    \"Data_Value\": \"value\"\n",
    "})\n",
    "cig_data = cig_data[[\"state_abb\", \"state\", \"Year\", \"value\", \"measure\"]]"
   ]
  },
  {
   "cell_type": "code",
   "execution_count": 5,
   "metadata": {},
   "outputs": [],
   "source": [
    "final_data = cig_data.pivot(index=[\"state\", \"Year\"], columns=\"measure\", values=\"value\").reset_index()\n",
    "final_data = final_data.sort_values(by=[\"state\", \"Year\"])"
   ]
  },
  {
   "cell_type": "code",
   "execution_count": 6,
   "metadata": {},
   "outputs": [
    {
     "name": "stdout",
     "output_type": "stream",
     "text": [
      "Columns in DataFrame after skipping rows: ['Year', 'Jan', 'Feb', 'Mar', 'Apr', 'May', 'Jun', 'Jul', 'Aug', 'Sep', 'Oct', 'Nov', 'Dec', 'HALF1', 'HALF2']\n"
     ]
    }
   ],
   "source": [
    "# cleaning CPI data\n",
    "print(\"Columns in DataFrame after skipping rows:\", cpi_data.columns.tolist()) \n",
    "\n",
    "cpi_data = cpi_data.melt(id_vars=[\"Year\"], \n",
    "                          value_vars=[\"Jan\", \"Feb\", \"Mar\", \"Apr\", \"May\", \"Jun\", \"Jul\", \"Aug\", \"Sep\", \"Oct\", \"Nov\", \"Dec\"],\n",
    "                          var_name=\"month\", \n",
    "                          value_name=\"index\")\n",
    "\n",
    "cpi_data = cpi_data.groupby(\"Year\", as_index=False).agg({\"index\": \"mean\"})"
   ]
  },
  {
   "cell_type": "code",
   "execution_count": 7,
   "metadata": {},
   "outputs": [
    {
     "name": "stdout",
     "output_type": "stream",
     "text": [
      "      Year\n",
      "2550  1913\n",
      "2551  1914\n",
      "2552  1915\n",
      "2553  1916\n",
      "2554  1917\n",
      "...    ...\n",
      "2608  2021\n",
      "2609  2022\n",
      "2610  2023\n",
      "2611  2024\n",
      "2612  2025\n",
      "\n",
      "[113 rows x 1 columns]\n"
     ]
    }
   ],
   "source": [
    "# Adjust to 2010 dollars\n",
    "final_data = final_data.merge(cpi_data, on='Year', how='outer')  # Use 'outer' to keep all years\n",
    "final_data[\"price_cpi\"] = final_data[\"cost_per_pack\"] * (218 / final_data[\"index\"])\n",
    "print(final_data[['Year']].drop_duplicates().sort_values('Year'))"
   ]
  },
  {
   "cell_type": "code",
   "execution_count": 8,
   "metadata": {},
   "outputs": [],
   "source": [
    "final_data.to_csv(\"/Users/ellenwu/homework3/data/output/ftaxburden_data.csv\")"
   ]
  },
  {
   "cell_type": "code",
   "execution_count": null,
   "metadata": {},
   "outputs": [],
   "source": []
  }
 ],
 "metadata": {
  "kernelspec": {
   "display_name": "base",
   "language": "python",
   "name": "python3"
  },
  "language_info": {
   "codemirror_mode": {
    "name": "ipython",
    "version": 3
   },
   "file_extension": ".py",
   "mimetype": "text/x-python",
   "name": "python",
   "nbconvert_exporter": "python",
   "pygments_lexer": "ipython3",
   "version": "3.11.4"
  }
 },
 "nbformat": 4,
 "nbformat_minor": 2
}
